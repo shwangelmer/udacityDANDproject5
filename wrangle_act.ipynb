{
 "cells": [
  {
   "cell_type": "markdown",
   "metadata": {},
   "source": [
    "# Project 5: Deadpan Dog Analysis\n",
    "An analysis, *sans* emotion, of the overemotional rating of dogs by the WeRateDogs twitter account.\n",
    "\n",
    "*This project is for Unit 4, Data Wrangling, of the Data Analyst Nanodegree from Udacity*"
   ]
  },
  {
   "cell_type": "markdown",
   "metadata": {},
   "source": [
    "## Table of Contents\n",
    "<ul>\n",
    "<li><a href='#intro'>Introduction</a></li>\n",
    "<li><a href='#wrangling'>Data Wrangling</a></li>\n",
    "    <ul>\n",
    "    <li><a href='#gather'>Gathering Data</a></li>\n",
    "    <li><a href='#assess'>Assessing Data</a></li>\n",
    "    <li><a href='#clean'>Cleaning Data</a></li>\n",
    "    </ul>\n",
    "<li><a href='#eda'>Exploratory Data Analysis</a></li>\n",
    "<li><a href='#stats'>Statistical Analysis</a></li>\n",
    "<li><a href='#conclusions'>Conclusions</a></li>\n",
    "</ul>"
   ]
  },
  {
   "cell_type": "markdown",
   "metadata": {},
   "source": [
    "<a id='intro'></a>\n",
    "## Introduction\n",
    "In this project, I will be working with the WeRateDogs Twitter account's tweets. This is a combination of the following sources:\n",
    "\n",
    "- Archived Twitter Data (provided as a \"file on hand\" by Udacity)\n",
    "- Image Predictions for Tweets (requested from a Udacity-hosted neural network)\n",
    "- Additional Tweet Metadata (queried via Twitter API)"
   ]
  },
  {
   "cell_type": "markdown",
   "metadata": {},
   "source": [
    "### Questions\n",
    "1. What are Dogs?\n",
    "2. How to doggo?\n",
    "3. Why floof?"
   ]
  },
  {
   "cell_type": "markdown",
   "metadata": {},
   "source": [
    "<a id='wrangling'></a>\n",
    "## Data Wrangling\n",
    "<ul>\n",
    "<li><a href='#gather'>Gathering Data</a></li>\n",
    "<li><a href='#assess'>Assessing Data</a></li>\n",
    "<li><a href='#clean'>Cleaning Data</a></li>\n",
    "</ul>"
   ]
  },
  {
   "cell_type": "markdown",
   "metadata": {},
   "source": [
    "<a id='gather'></a>\n",
    "### Gathering Data"
   ]
  },
  {
   "cell_type": "markdown",
   "metadata": {},
   "source": [
    "<a id='assess'></a>\n",
    "### Assessing Data"
   ]
  },
  {
   "cell_type": "markdown",
   "metadata": {},
   "source": [
    "#### Issues\n",
    "\n",
    "##### Quality\n",
    "1. i\n",
    "2. i\n",
    "3. i\n",
    "4. i\n",
    "5. i\n",
    "6. i\n",
    "7. i\n",
    "8. i\n",
    "\n",
    "##### Tidiness\n",
    "1. i\n",
    "2. i"
   ]
  },
  {
   "cell_type": "markdown",
   "metadata": {},
   "source": [
    "<a id='clean'></a>\n",
    "### Cleaning Data"
   ]
  },
  {
   "cell_type": "markdown",
   "metadata": {},
   "source": [
    "<a id='eda'></a>\n",
    "## Exploratory Data Analysis"
   ]
  },
  {
   "cell_type": "markdown",
   "metadata": {},
   "source": [
    "<a id='stats'></a>\n",
    "## Statistical Analysis"
   ]
  },
  {
   "cell_type": "markdown",
   "metadata": {},
   "source": [
    "<a id='conclusions'></a>\n",
    "## Conclusions"
   ]
  },
  {
   "cell_type": "code",
   "execution_count": null,
   "metadata": {},
   "outputs": [],
   "source": []
  }
 ],
 "metadata": {
  "kernelspec": {
   "display_name": "Python [conda env:dogs]",
   "language": "python",
   "name": "conda-env-dogs-py"
  },
  "language_info": {
   "codemirror_mode": {
    "name": "ipython",
    "version": 3
   },
   "file_extension": ".py",
   "mimetype": "text/x-python",
   "name": "python",
   "nbconvert_exporter": "python",
   "pygments_lexer": "ipython3",
   "version": "3.8.3"
  }
 },
 "nbformat": 4,
 "nbformat_minor": 4
}
