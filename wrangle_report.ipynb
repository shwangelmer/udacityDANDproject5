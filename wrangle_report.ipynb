{
 "cells": [
  {
   "cell_type": "markdown",
   "metadata": {},
   "source": [
    "# Wrangle Report for Project 5: Dog Analysis\n",
    "Below, I summarize the data wrangling process undertaken for this project."
   ]
  },
  {
   "cell_type": "markdown",
   "metadata": {},
   "source": [
    "## Table of Contents\n",
    "<ul>\n",
    "<li><a href='#sources'>Sources</a></li>\n",
    "<li><a href='#gather'>Gathering Data</a></li>\n",
    "<li><a href='#assess'>Assessing Data</a></li>\n",
    "<li><a href='#clean'>Cleaning Data</a></li>\n",
    "</ul>"
   ]
  },
  {
   "cell_type": "markdown",
   "metadata": {},
   "source": [
    "<a id='sources'></a>\n",
    "## Sources\n",
    "In this project, I worked with the WeRateDogs Twitter account's tweets. This was a combination of the following sources:\n",
    "\n",
    "- Archived Twitter Data\n",
    "- Image Predictions for Tweets\n",
    "- Additional Tweet Metadata"
   ]
  },
  {
   "cell_type": "markdown",
   "metadata": {},
   "source": [
    "<a id='gather'></a>\n",
    "## Gathering Data"
   ]
  },
  {
   "cell_type": "markdown",
   "metadata": {},
   "source": [
    "In this stage, I sought to convert each one of the sources above into a Pandas dataframe, which would allow easier, more fluid manipulation during the following stages. This was accomplished by the following steps for each source:\n",
    "#### Archived Twitter Data\n",
    "- Used the pd.read_csv built-in function to conver the on-hand file into a dataframe\n",
    "#### Image Predictions for Tweets\n",
    "- Pulled the file from Udacity's hosting location using the _requests_ library and wrote it to this directory\n",
    "- Read the .tsv file in as a dataframe using pd.read_csv with the separator denoted as tabs\n",
    "#### Additional Tweet Metadata\n",
    "- Setup a twitter developer account\n",
    "- Used the Twitter API via the _tweepy_ library to access data for each tweet from Twitter\n",
    "- Dumped the json data using the _json_ library and wrote to a .txt file in this directory\n",
    "- Read the .txt file in as a dataframe using pd.read_json"
   ]
  },
  {
   "cell_type": "markdown",
   "metadata": {},
   "source": [
    "<a id='assess'></a>\n",
    "## Assessing Data"
   ]
  },
  {
   "cell_type": "markdown",
   "metadata": {},
   "source": [
    "#### Issues\n",
    "\n",
    "##### Quality\n",
    "\n",
    "1. Tweet id is referred to inconsistently across tables\n",
    "2. There are many empty columns and columns that aren't needed (and are therefore invalid)\n",
    "\n",
    "`df_archive`\n",
    "3. Archived data contains 181 retweets, which are invalid based on our desire for original tweets only\n",
    "4. `rating_denominator` data should all be 10, but some are very far off, most due to scraping the wrong numbers from the text.\n",
    "5. `rating_numerator` values have a similar problem to the denominator\n",
    "6. `timestamp` is object type, and should be datetime type.\n",
    "7. `source` is invalid as it contains the whole hyperlink html tag. This should be a simpler categorical data format preferably a one word string.\n",
    "\n",
    "`df_meta`\n",
    "8. Data is incomplete since some tweets were not able to be pulled by the API (IDs were stored in `lost_tweets` and can also be found comparing to df_archive)\n",
    "9. `id` does not match `id_str` for some tweets, and `id` matches the id used in the other two tables.\n",
    "\n",
    "##### Tidiness\n",
    "1. Data is split across three dataframes and three files, but only has two main observational units, i.e., tweet data and tweet image predictions\n",
    "2. Duplicated information (tweet id in 4 columns, text in both `df_archive` and `df_meta`)\n",
    "3. In `df_archive`, the dog \"stage\" descriptions should be one column instead of 4 since it's mostly exlusive categorical data"
   ]
  },
  {
   "cell_type": "markdown",
   "metadata": {},
   "source": [
    "<a id ='clean'></a>\n",
    "## Cleaning Data"
   ]
  },
  {
   "cell_type": "code",
   "execution_count": null,
   "metadata": {},
   "outputs": [],
   "source": []
  }
 ],
 "metadata": {
  "kernelspec": {
   "display_name": "Python [conda env:dogs]",
   "language": "python",
   "name": "conda-env-dogs-py"
  },
  "language_info": {
   "codemirror_mode": {
    "name": "ipython",
    "version": 3
   },
   "file_extension": ".py",
   "mimetype": "text/x-python",
   "name": "python",
   "nbconvert_exporter": "python",
   "pygments_lexer": "ipython3",
   "version": "3.8.3"
  }
 },
 "nbformat": 4,
 "nbformat_minor": 4
}
